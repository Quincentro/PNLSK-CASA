{
 "cells": [
  {
   "cell_type": "code",
   "execution_count": null,
   "id": "415d4fb9",
   "metadata": {},
   "outputs": [],
   "source": [
    "!conda create -n pypy python=3.8 --y\n",
    "!conda init bash"
   ]
  },
  {
   "cell_type": "code",
   "execution_count": 1,
   "id": "e42b9862",
   "metadata": {},
   "outputs": [],
   "source": [
    "!source activate pypy"
   ]
  },
  {
   "cell_type": "code",
   "execution_count": null,
   "id": "7a3ff1ca",
   "metadata": {},
   "outputs": [],
   "source": [
    "!cat requirements.txt | xargs -n 1 pip install\n",
    "!pip3 install --upgrade tensorflow-gpu"
   ]
  },
  {
   "cell_type": "code",
   "execution_count": null,
   "id": "ee998056",
   "metadata": {},
   "outputs": [],
   "source": [
    "!pip install git+https://github.com/boudinfl/pke.git\n",
    "!git clone https://github.com/facebookresearch/InferSent.git\n",
    "import nltk\n",
    "nltk.download('stopwords')\n",
    "nltk.download('punkt')\n",
    "!python3 -m spacy download en_core_web_sm\n",
    "import spacy\n",
    "from spacy.cli.download import download\n",
    "download(model=\"en_core_web_sm\")"
   ]
  },
  {
   "cell_type": "code",
   "execution_count": 3,
   "id": "5a70fc2c",
   "metadata": {},
   "outputs": [
    {
     "name": "stdout",
     "output_type": "stream",
     "text": [
      "\u001b[34m\u001b[1mwandb\u001b[0m: Appending key for api.wandb.ai to your netrc file: /home/ec2-user/.netrc\n"
     ]
    },
    {
     "data": {
      "text/html": [
       "Finishing last run (ID:kz14ktbh) before initializing another..."
      ],
      "text/plain": [
       "<IPython.core.display.HTML object>"
      ]
     },
     "metadata": {},
     "output_type": "display_data"
    },
    {
     "data": {
      "text/html": [
       "<br/>Waiting for W&B process to finish, PID 19137<br/>Program ended successfully."
      ],
      "text/plain": [
       "<IPython.core.display.HTML object>"
      ]
     },
     "metadata": {},
     "output_type": "display_data"
    },
    {
     "data": {
      "application/vnd.jupyter.widget-view+json": {
       "model_id": "1a266a050cdb4588951be1305293a301",
       "version_major": 2,
       "version_minor": 0
      },
      "text/plain": [
       "VBox(children=(Label(value=' 0.00MB of 0.00MB uploaded (0.00MB deduped)\\r'), FloatProgress(value=1.0, max=1.0)…"
      ]
     },
     "metadata": {},
     "output_type": "display_data"
    },
    {
     "data": {
      "text/html": [
       "Find user logs for this run at: <code>/home/ec2-user/SageMaker/CASA-Dialogue-Act-Classifier/wandb/run-20220217_145610-kz14ktbh/logs/debug.log</code>"
      ],
      "text/plain": [
       "<IPython.core.display.HTML object>"
      ]
     },
     "metadata": {},
     "output_type": "display_data"
    },
    {
     "data": {
      "text/html": [
       "Find internal logs for this run at: <code>/home/ec2-user/SageMaker/CASA-Dialogue-Act-Classifier/wandb/run-20220217_145610-kz14ktbh/logs/debug-internal.log</code>"
      ],
      "text/plain": [
       "<IPython.core.display.HTML object>"
      ]
     },
     "metadata": {},
     "output_type": "display_data"
    },
    {
     "data": {
      "text/html": [
       "Synced 5 W&B file(s), 0 media file(s), 0 artifact file(s) and 0 other file(s)"
      ],
      "text/plain": [
       "<IPython.core.display.HTML object>"
      ]
     },
     "metadata": {},
     "output_type": "display_data"
    },
    {
     "data": {
      "text/html": [
       "\n",
       "                    <br/>Synced <strong style=\"color:#cdcd00\">deep-pond-1</strong>: <a href=\"https://wandb.ai/qkroon/PNLSK/runs/kz14ktbh\" target=\"_blank\">https://wandb.ai/qkroon/PNLSK/runs/kz14ktbh</a><br/>\n",
       "                "
      ],
      "text/plain": [
       "<IPython.core.display.HTML object>"
      ]
     },
     "metadata": {},
     "output_type": "display_data"
    },
    {
     "data": {
      "text/html": [
       "...Successfully finished last run (ID:kz14ktbh). Initializing new run:<br/><br/>"
      ],
      "text/plain": [
       "<IPython.core.display.HTML object>"
      ]
     },
     "metadata": {},
     "output_type": "display_data"
    },
    {
     "name": "stderr",
     "output_type": "stream",
     "text": [
      "\u001b[34m\u001b[1mwandb\u001b[0m: wandb version 0.12.10 is available!  To upgrade, please run:\n",
      "\u001b[34m\u001b[1mwandb\u001b[0m:  $ pip install wandb --upgrade\n"
     ]
    },
    {
     "data": {
      "text/html": [
       "\n",
       "                Tracking run with wandb version 0.10.10<br/>\n",
       "                Syncing run <strong style=\"color:#cdcd00\">morning-microwave-2</strong> to <a href=\"https://wandb.ai\" target=\"_blank\">Weights & Biases</a> <a href=\"https://docs.wandb.com/integrations/jupyter.html\" target=\"_blank\">(Documentation)</a>.<br/>\n",
       "                Project page: <a href=\"https://wandb.ai/qkroon/PNLSK\" target=\"_blank\">https://wandb.ai/qkroon/PNLSK</a><br/>\n",
       "                Run page: <a href=\"https://wandb.ai/qkroon/PNLSK/runs/13t0bhrc\" target=\"_blank\">https://wandb.ai/qkroon/PNLSK/runs/13t0bhrc</a><br/>\n",
       "                Run data is saved locally in <code>/home/ec2-user/SageMaker/CASA-Dialogue-Act-Classifier/wandb/run-20220217_145719-13t0bhrc</code><br/><br/>\n",
       "            "
      ],
      "text/plain": [
       "<IPython.core.display.HTML object>"
      ]
     },
     "metadata": {},
     "output_type": "display_data"
    },
    {
     "data": {
      "text/html": [
       "<h1>Run(13t0bhrc)</h1><p></p><iframe src=\"https://wandb.ai/qkroon/PNLSK/runs/13t0bhrc\" style=\"border:none;width:100%;height:400px\"></iframe>"
      ],
      "text/plain": [
       "<wandb.sdk.wandb_run.Run at 0x7f87ce2d4fd0>"
      ]
     },
     "execution_count": 3,
     "metadata": {},
     "output_type": "execute_result"
    }
   ],
   "source": [
    "import os\n",
    "os.environ[\"WANDB_NOTEBOOK_NAME\"] = \"CASA\"\n",
    "!wandb login f54cdfc3c80077ccc84e82a8162b2c5bc1ad7e18\n",
    "import wandb\n",
    "wandb.init(project=\"PNLSK\")"
   ]
  },
  {
   "cell_type": "code",
   "execution_count": null,
   "id": "94d6a79c",
   "metadata": {},
   "outputs": [],
   "source": [
    "import torch\n",
    "print(torch.__version__)"
   ]
  },
  {
   "cell_type": "code",
   "execution_count": null,
   "id": "7bbb752d",
   "metadata": {},
   "outputs": [],
   "source": [
    "run main.py"
   ]
  },
  {
   "cell_type": "code",
   "execution_count": null,
   "id": "84b4c790",
   "metadata": {},
   "outputs": [],
   "source": []
  }
 ],
 "metadata": {
  "kernelspec": {
   "display_name": "conda_pytorch_p36",
   "language": "python",
   "name": "conda_pytorch_p36"
  },
  "language_info": {
   "codemirror_mode": {
    "name": "ipython",
    "version": 3
   },
   "file_extension": ".py",
   "mimetype": "text/x-python",
   "name": "python",
   "nbconvert_exporter": "python",
   "pygments_lexer": "ipython3",
   "version": "3.6.13"
  }
 },
 "nbformat": 4,
 "nbformat_minor": 5
}
